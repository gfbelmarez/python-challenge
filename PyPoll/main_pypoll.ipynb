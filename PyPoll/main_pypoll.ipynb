{
 "cells": [
  {
   "cell_type": "code",
   "execution_count": 1,
   "metadata": {},
   "outputs": [],
   "source": [
    "import os\n",
    "import csv"
   ]
  },
  {
   "cell_type": "code",
   "execution_count": 17,
   "metadata": {},
   "outputs": [
    {
     "name": "stdout",
     "output_type": "stream",
     "text": [
      "Election Results\n",
      "-------------------------\n",
      "Total Votes: 3521001\n",
      "-------------------------\n",
      "Khan: 63.0% (2218231)\n",
      "Correy: 20.0% (704200)\n",
      "Li: 14.0% (492940)\n",
      "O'Tooley: 3.0% (105630)\n",
      "-------------------------\n",
      "Winner: Khan\n",
      "-------------------------\n"
     ]
    }
   ],
   "source": [
    "election_data = os.path.join(\"./Resources\",\"election_data.csv\")\n",
    "with open(election_data, newline='') as csvfile:\n",
    "    # CSV reader specifies delimiter and variable that holds contents\n",
    "    csvreader = csv.reader(csvfile, delimiter=',')\n",
    "    csv_header = next(csvreader)\n",
    "    vote_totals = {}\n",
    "    total = 0\n",
    "    \n",
    "    # for each row in the file\n",
    "    for row in csvreader:\n",
    "        # add to total\n",
    "        total +=1\n",
    "        # tally votes for each candidate\n",
    "        if row[2] in vote_totals:\n",
    "            vote_totals[row[2]] = vote_totals[row[2]] + 1\n",
    "        else:\n",
    "            vote_totals[row[2]] = 1\n",
    "    \n",
    "    # print results\n",
    "    print (\"Election Results\")\n",
    "    print (\"-------------------------\")\n",
    "    print (f\"Total Votes: {total}\")\n",
    "    print (\"-------------------------\")\n",
    "    curr_max = 0\n",
    "    for candidate, votes in vote_totals.items():\n",
    "        print (f\"{candidate}: {round (votes*100/total,4)}% ({votes})\")\n",
    "        \n",
    "        if votes > curr_max:\n",
    "            curr_max = votes\n",
    "            winner = candidate\n",
    "    print (\"-------------------------\")\n",
    "    print (f\"Winner: {winner}\")\n",
    "    print (\"-------------------------\")\n",
    "    \n",
    "    \n",
    "        \n",
    "        \n",
    "        "
   ]
  },
  {
   "cell_type": "code",
   "execution_count": null,
   "metadata": {},
   "outputs": [],
   "source": []
  }
 ],
 "metadata": {
  "kernelspec": {
   "display_name": "Python 3",
   "language": "python",
   "name": "python3"
  },
  "language_info": {
   "codemirror_mode": {
    "name": "ipython",
    "version": 3
   },
   "file_extension": ".py",
   "mimetype": "text/x-python",
   "name": "python",
   "nbconvert_exporter": "python",
   "pygments_lexer": "ipython3",
   "version": "3.6.6"
  }
 },
 "nbformat": 4,
 "nbformat_minor": 2
}
